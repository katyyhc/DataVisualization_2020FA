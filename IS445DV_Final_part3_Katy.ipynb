{
 "cells": [
  {
   "cell_type": "code",
   "execution_count": 1,
   "metadata": {},
   "outputs": [],
   "source": [
    "import pandas as pd\n",
    "import numpy as np\n",
    "import ipywidgets\n",
    "import matplotlib.pyplot as plt\n",
    "import seaborn as sns"
   ]
  },
  {
   "cell_type": "code",
   "execution_count": 2,
   "metadata": {},
   "outputs": [
    {
     "name": "stderr",
     "output_type": "stream",
     "text": [
      "D:\\Anaconda\\lib\\site-packages\\IPython\\core\\interactiveshell.py:3071: DtypeWarning: Columns (1,2,4,6,9,14,15,18,19,22,23,24,25,27,28,29,30,31,32,33,35,36,37,38,39,40,41,42,43,45,46,47,49,50,51,52,53,54,56,58,59,60,61,62,63,65,66,67,68,73,75,76,77,78,79,80,81,82,83,84,85,86,87,88,89,90,91,92,93,94,95,96,97,98,99,100) have mixed types.Specify dtype option on import or set low_memory=False.\n",
      "  has_raised = await self.run_ast_nodes(code_ast.body, cell_name,\n"
     ]
    }
   ],
   "source": [
    "visa_all = pd.read_csv(r\"D:\\_Files\\UIUC 2020 Fall\\IS 445 DV\\Final Project\\updated_US_Visa.csv\")"
   ]
  },
  {
   "cell_type": "markdown",
   "metadata": {},
   "source": [
    "### 1. Top 10 countries, each Visa status, each year"
   ]
  },
  {
   "cell_type": "code",
   "execution_count": 3,
   "metadata": {},
   "outputs": [],
   "source": [
    "def plotting_df_of_specific_year(df, year):\n",
    "    visa_all_this_year = visa_all[visa_all['decision_year'] == year]\n",
    "    \n",
    "    visa_certified = visa_all_this_year[visa_all_this_year['case_status'] == 'Certified']\n",
    "    visa_certified_expired = visa_all_this_year[visa_all_this_year['case_status'] == 'Certified-Expired']\n",
    "    visa_denied = visa_all_this_year[visa_all_this_year['case_status'] == 'Denied']\n",
    "    visa_withdrawn = visa_all_this_year[visa_all_this_year['case_status'] == 'Withdrawn']\n",
    "    \n",
    "    df_visa_certified = pd.DataFrame(visa_certified['country_of_citizenship'].dropna().value_counts().reset_index().rename(columns = {'index': 'country', 'country_of_citizenship': 'certified'}))\n",
    "    df_visa_certified_expired = pd.DataFrame(visa_certified_expired['country_of_citizenship'].dropna().value_counts().reset_index().rename(columns = {'index': 'country', 'country_of_citizenship': 'certified_expired'}))\n",
    "    df_visa_denied = pd.DataFrame(visa_denied['country_of_citizenship'].dropna().value_counts().reset_index().rename(columns = {'index': 'country', 'country_of_citizenship': 'denied'}))\n",
    "    df_visa_withdrawn = pd.DataFrame(visa_withdrawn['country_of_citizenship'].dropna().value_counts().reset_index().rename(columns = {'index': 'country', 'country_of_citizenship': 'withdrawn'}))\n",
    "\n",
    "    status_count_per_country = df_visa_certified.merge(df_visa_certified_expired, how = 'outer')\n",
    "    status_count_per_country = status_count_per_country.merge(df_visa_denied, how = 'outer')\n",
    "    status_count_per_country = status_count_per_country.merge(df_visa_withdrawn, how = 'outer')\n",
    "    \n",
    "    return status_count_per_country"
   ]
  },
  {
   "cell_type": "code",
   "execution_count": 4,
   "metadata": {},
   "outputs": [],
   "source": [
    "def bar_chart_for_specific_year(df):\n",
    "    fig, ax = plt.subplots(figsize = (15,8))\n",
    "\n",
    "    label_country = list(df['country'].drop_duplicates()[0:10])\n",
    "    certified = list(df['certified'][0:10].fillna(0))   # fillna is needed since there is no \"certified\" cases in 2012\n",
    "    certified_expired = list(df['certified_expired'][0:10].fillna(0))\n",
    "    denied = list(df['denied'][0:10].fillna(0))\n",
    "    withdrawn = list(df['withdrawn'][0:10].fillna(0))\n",
    "\n",
    "    height_for_denied = np.add(certified, certified_expired).tolist()\n",
    "    height_for_withdrawn = np.add(height_for_denied, withdrawn).tolist()\n",
    "\n",
    "    ax.bar(label_country, certified, label = 'certified')\n",
    "    ax.bar(label_country, certified_expired, label = 'certified_expired', bottom = certified)\n",
    "    ax.bar(label_country, denied, label = 'denied', bottom = height_for_denied)\n",
    "    ax.bar(label_country, withdrawn, label = 'withdrawn', bottom = height_for_withdrawn)\n",
    "\n",
    "    ax.set_ylim([0, 70000])\n",
    "    ax.set_xlabel('Country')\n",
    "    ax.set_ylabel('Number of Cases')\n",
    "    ax.set_title('Top 10 Countries in Different Visa Status in each year', fontsize = 15)\n",
    "    ax.legend(fontsize = 15)"
   ]
  },
  {
   "cell_type": "code",
   "execution_count": 5,
   "metadata": {},
   "outputs": [
    {
     "data": {
      "application/vnd.jupyter.widget-view+json": {
       "model_id": "1fc23f9a42044b6487464e8ed5839b74",
       "version_major": 2,
       "version_minor": 0
      },
      "text/plain": [
       "interactive(children=(Dropdown(description='year', options=(2012, 2013, 2014, 2015, 2016), value=2012), Output…"
      ]
     },
     "metadata": {},
     "output_type": "display_data"
    }
   ],
   "source": [
    "@ipywidgets.interact(year = [2012, 2013, 2014, 2015, 2016])\n",
    "def different_year(year):\n",
    "    bar_chart_for_specific_year(plotting_df_of_specific_year(visa_all, year))"
   ]
  },
  {
   "cell_type": "markdown",
   "metadata": {},
   "source": [
    "### 2. Employer numbers of each state presenting in an interactive US state map"
   ]
  },
  {
   "cell_type": "code",
   "execution_count": 6,
   "metadata": {},
   "outputs": [],
   "source": [
    "import bqplot\n",
    "import bqplot.pyplot as plt"
   ]
  },
  {
   "cell_type": "code",
   "execution_count": 7,
   "metadata": {},
   "outputs": [],
   "source": [
    "df_employer_state = pd.DataFrame(visa_all['employer_state'].dropna().value_counts())\n",
    "df_employer_state = df_employer_state.reset_index().rename(columns = {'index': 'Employer_state', 'employer_name': 'Counts'})\n",
    "df_employer_state['Employer_state'] = df_employer_state['Employer_state'].str.upper()"
   ]
  },
  {
   "cell_type": "code",
   "execution_count": 8,
   "metadata": {},
   "outputs": [],
   "source": [
    "df_employer_state = df_employer_state.groupby(['Employer_state']).sum().reset_index().sort_values(by = 'employer_state', ascending = False)"
   ]
  },
  {
   "cell_type": "code",
   "execution_count": 9,
   "metadata": {},
   "outputs": [],
   "source": [
    "state_fips = pd.read_csv(r'D:\\_Files\\UIUC 2020 Fall\\IS 445 DV\\Final Project\\us-state-ansi-fips.csv')\n",
    "state_fips[' stusps'] = state_fips[' stusps'].str.strip()"
   ]
  },
  {
   "cell_type": "code",
   "execution_count": 10,
   "metadata": {},
   "outputs": [],
   "source": [
    "df_employer_state = pd.merge(df_employer_state, state_fips, left_on = \"Employer_state\", right_on = \" stusps\")"
   ]
  },
  {
   "cell_type": "code",
   "execution_count": 11,
   "metadata": {},
   "outputs": [],
   "source": [
    "us_state_map = bqplot.AlbersUSA()\n",
    "color_sc = bqplot.ColorScale(scheme = \"Greens\")\n",
    "df_employer_state = dict(zip(df_employer_state[' st'], df_employer_state['employer_state']))\n",
    "map_styles_county = {'color': df_employer_state,\n",
    "              'scales': {'projection': us_state_map, 'color': color_sc}}\n",
    "county_fig = plt.figure()\n",
    "county_map = plt.geo(map_data = 'USStatesMap', **map_styles_county)\n",
    "\n",
    "map_tt = bqplot.Tooltip(fields = ['id', 'name', 'color'], labels = ['State Code(FIPS)', 'States', 'Number of Employers'])\n",
    "county_map.tooltip = map_tt"
   ]
  },
  {
   "cell_type": "code",
   "execution_count": 12,
   "metadata": {},
   "outputs": [
    {
     "data": {
      "application/vnd.jupyter.widget-view+json": {
       "model_id": "c5e2dad82a8b4319a5d9b59be100259b",
       "version_major": 2,
       "version_minor": 0
      },
      "text/plain": [
       "Figure(axes=[ColorAxis(scale=ColorScale(scheme='Greens'))], fig_margin={'top': 60, 'bottom': 60, 'left': 60, '…"
      ]
     },
     "metadata": {},
     "output_type": "display_data"
    }
   ],
   "source": [
    "county_fig"
   ]
  },
  {
   "cell_type": "code",
   "execution_count": null,
   "metadata": {},
   "outputs": [],
   "source": []
  }
 ],
 "metadata": {
  "kernelspec": {
   "display_name": "Python 3",
   "language": "python",
   "name": "python3"
  },
  "language_info": {
   "codemirror_mode": {
    "name": "ipython",
    "version": 3
   },
   "file_extension": ".py",
   "mimetype": "text/x-python",
   "name": "python",
   "nbconvert_exporter": "python",
   "pygments_lexer": "ipython3",
   "version": "3.8.3"
  }
 },
 "nbformat": 4,
 "nbformat_minor": 4
}
